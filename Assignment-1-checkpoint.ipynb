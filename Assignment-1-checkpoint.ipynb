{
 "cells": [
  {
   "cell_type": "markdown",
   "id": "b4b56afe-3993-46f6-a62d-638d1fb41bec",
   "metadata": {},
   "source": [
    "**1. In the below elements which of them are values or an expression? eg:- values can be integer or string and expressions will be mathematical operators.**\n",
    "\n",
    "*\n",
    "'hello'\n",
    "-87.8\n",
    "-\n",
    "/\n",
    "+\n",
    "6\n",
    "\n",
    "Ans:-\n",
    "`*`: Expression\n",
    "\n",
    "'hello': Value\n",
    "\n",
    "-87.8`: Value \n",
    "\n",
    "`-`: Expression \n",
    "\n",
    "`/`: Expression \n",
    "\n",
    "`+`: Expression \n",
    "\n",
    "`6`: Value"
   ]
  },
  {
   "cell_type": "markdown",
   "id": "cf1a0cf4-bf01-4ce8-83a0-660a42c1adaa",
   "metadata": {},
   "source": [
    "**2. What is the difference between string and variable**\n",
    "\n",
    "*String:*\n",
    "A string is a data type that represents a sequence of characters enclosed in single (') or double (\") quotes.\n",
    "Example: 'Hello, World!', \"Python\".\n",
    "Strings are values that can be assigned to variables or used directly in expressions.\n",
    "\n",
    "*Variable:*\n",
    "A variable is a name that acts as a container for storing data (including strings, numbers, etc.).\n",
    "Variables can hold different types of data, including strings, integers, floats, lists, etc.\n",
    "\n",
    "\n",
    "**Example**\n",
    "name = \"Alice\"  # Here, `name` is a variable, and `\"Alice\"` is a string assigned to it."
   ]
  },
  {
   "cell_type": "markdown",
   "id": "513dcda2-effd-451b-80b3-a819dcf60ef9",
   "metadata": {},
   "source": [
    "**3. Describe three different data types.**\n",
    "\n",
    "integer (int)\tRepresents whole numbers (positive, negative, or zero) without decimal points.\n",
    "\n",
    "String (str)\tRepresents a sequence of characters enclosed in single (') or double (\") quotes.\n",
    "\n",
    "List (list)\tAn ordered, mutable collection of items, which can include elements of different data types. Enclosed in square brackets ([])."
   ]
  },
  {
   "cell_type": "markdown",
   "id": "9feff1ad-1c9f-4e05-8308-0ffd49329809",
   "metadata": {},
   "source": [
    "**4. What is an expression made up of? What do all expressions do?**\n",
    "\n",
    "Operands: These are the values or variables that the operator acts upon.\n",
    "\n",
    "Example: In 3 + 5, the operands are 3 and 5.\n",
    "\n",
    "Operators: These are symbols or keywords used to perform operations on operands.\n",
    "\n",
    "Example: In 3 + 5, the operator is + (addition).\n",
    "\n",
    "Expressions can also include function calls, method invocations, or even other expressions. For example, (2 + 3) * 4 is a compound expression.\n",
    "\n",
    "**All expressions evaluate to a value. This means they are computed to produce a result. The type of result depends on the type of operation and the operands.**\n",
    "\n",
    "Example 1: 3 + 5 evaluates to 8 (an integer).\n",
    "\n",
    "Example 2: \"Hello, \" + \"World!\" evaluates to \"Hello, World!\" (a string).\n",
    "\n",
    "Example 3: 5 > 3 evaluates to True (a boolean)."
   ]
  },
  {
   "cell_type": "markdown",
   "id": "a9801adf-162e-462a-8bd2-9a658a6651af",
   "metadata": {},
   "source": [
    "**5. This assignment statements, like spam = 10. What is the difference between an expression and a statement?**\n",
    "\n",
    "Expression:\n",
    "An expression is any valid combination of variables, values, operators, and function calls that can be evaluated to produce a result (a value).\n",
    "\n",
    "For example, 3 + 5 or 'Hello' + 'World' are expressions because they are evaluated to give a result (in this case, 8 and 'HelloWorld', respectively).\n",
    "\n",
    "Statement:\n",
    "A statement, on the other hand, is a line of code that performs an action, such as assigning a value to a variable, making a function call, or controlling the flow of execution (e.g., conditionals and loops).\n",
    "\n",
    "An assignment statement like spam = 10 is a statement because it doesn't evaluate to a value; instead, it performs the action of assigning the value 10 to the variable spam."
   ]
  },
  {
   "cell_type": "markdown",
   "id": "f6538c73-d065-41e4-bbb6-c32bd0daf237",
   "metadata": {},
   "source": [
    "**6. After running the following code, what does the variable bacon contain?**\n",
    "\n",
    "bacon = 22\n",
    "\n",
    "bacon + 1\n",
    "\n",
    "Ans\n",
    "\n",
    "The variable bacon contain 23"
   ]
  },
  {
   "cell_type": "markdown",
   "id": "afe94be8-3e06-4ca6-9c01-79f950b10947",
   "metadata": {},
   "source": [
    "**7. What should the values of the following two terms be?**\n",
    "\n",
    "'spam' + 'spamspam'\n",
    "\n",
    "'spam' * 3\n",
    "\n",
    "Ans\n",
    "\n",
    "'spamspamspam'"
   ]
  },
  {
   "cell_type": "markdown",
   "id": "071177ea-7c59-4856-8833-6ea458b8d948",
   "metadata": {},
   "source": [
    "**8. Why is eggs a valid variable name while 100 is invalid?**\n",
    "\n",
    "Eggs are valid\n",
    "\n",
    "Variable names can start with a letter (A-Z or a-z) or an underscore (_).\n",
    "\n",
    "eggs starts with a letter, so it is valid.\n",
    "\n",
    "It follows all naming conventions and does not conflict with reserved keywords.\n",
    "\n",
    "100 is valid\n",
    "\n",
    "Variable names cannot start with a digit. Python will throw a SyntaxError if you try to use 100 as a variable name because it violates this rule.\n",
    "\n",
    "If you want to use a number in a variable name, it must come after a letter or an underscore (e.g., a100 or _100)."
   ]
  },
  {
   "cell_type": "markdown",
   "id": "9e3ee9ce-35b0-422c-9683-f057f7b4e435",
   "metadata": {},
   "source": [
    "**9. What three functions can be used to get the integer, floating-point number, or string version of a value?**\n",
    "\n",
    "int():\n",
    "\n",
    "Converts a value to an integer (whole number).\n",
    "\n",
    "float():\n",
    "\n",
    "Converts a value to a floating-point number (decimal number).\n",
    "\n",
    "str():\n",
    "\n",
    "Converts a value to a string (sequence of characters)."
   ]
  },
  {
   "cell_type": "markdown",
   "id": "7bea5ed0-a10a-4d4c-8b7c-0ee3d68c4e04",
   "metadata": {},
   "source": [
    "**10. Why does this expression cause an error? How can you fix it?**\n",
    "\n",
    "'I have eaten ' + 99 + ' burritos.'\n",
    "\n",
    "causes an error because Python does not allow concatenation of strings and integers directly. The + operator in this context is used for string concatenation, but 99 is an integer, not a string, so Python raises a TypeError.\n",
    "\n",
    "**To fix the error**\n",
    "\n",
    "you need to add integer 99 by using the str() function\n",
    "\n",
    "'I have eaten ' + str(99) + ' burritos.'"
   ]
  }
 ],
 "metadata": {
  "kernelspec": {
   "display_name": "Python 3 (ipykernel)",
   "language": "python",
   "name": "python3"
  },
  "language_info": {
   "codemirror_mode": {
    "name": "ipython",
    "version": 3
   },
   "file_extension": ".py",
   "mimetype": "text/x-python",
   "name": "python",
   "nbconvert_exporter": "python",
   "pygments_lexer": "ipython3",
   "version": "3.12.7"
  }
 },
 "nbformat": 4,
 "nbformat_minor": 5
}
